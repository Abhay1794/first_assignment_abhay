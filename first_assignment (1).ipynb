{
 "cells": [
  {
   "cell_type": "code",
   "execution_count": 1,
   "id": "177fe37d-b325-4cf3-b63b-71891fe959b8",
   "metadata": {},
   "outputs": [],
   "source": [
    "#1.explain the key features of Python that make it a popular choice for programming\n",
    "\n",
    "#widely used in the industry\n",
    "#have a lot of libraries\n",
    "#easy to learn \n",
    "#easy to read\n",
    "#huge active community\n",
    "#automation \n",
    "#image processing \n"
   ]
  },
  {
   "cell_type": "code",
   "execution_count": 10,
   "id": "525016af-6267-43bf-82e1-feebadfb5e5a",
   "metadata": {},
   "outputs": [
    {
     "name": "stdout",
     "output_type": "stream",
     "text": [
      "hello world\n"
     ]
    },
    {
     "data": {
      "text/plain": [
       "str"
      ]
     },
     "execution_count": 10,
     "metadata": {},
     "output_type": "execute_result"
    }
   ],
   "source": [
    "#2.Describe the role of predefined keywords in Python and provide examples of how they are used in a programming\n",
    "\n",
    "\n",
    "#predefined words are the words that hold a special meaning and have specific purpose\n",
    "\n",
    "examples: print(\"hello world\")\n",
    "\n",
    "type(\"abhay\")\n",
    "\n"
   ]
  },
  {
   "cell_type": "code",
   "execution_count": 3,
   "id": "8f5b968b-019e-4901-83e6-ace1c3745dcf",
   "metadata": {},
   "outputs": [
    {
     "data": {
      "text/plain": [
       "[1, 2, 3, 4, 5, 6]"
      ]
     },
     "execution_count": 3,
     "metadata": {},
     "output_type": "execute_result"
    }
   ],
   "source": [
    "#3.Compare and contrast mutable and immutable objects in Python with examples\n",
    "\n",
    "#objects whose state or value can be changed after they are created are called as mutable objects\n",
    "#objects whose state or value can not be changed after they are created are called as immutable objects\n",
    "\n",
    "#example for mutable object\n",
    "\n",
    "list = [1,2,3,4,5,6]\n",
    "list\n",
    "\n",
    "  "
   ]
  },
  {
   "cell_type": "code",
   "execution_count": 4,
   "id": "21ac43ff-5c5c-41ec-b5ab-645f05f6e22d",
   "metadata": {},
   "outputs": [
    {
     "data": {
      "text/plain": [
       "[1, 2, 21, 4, 5, 6]"
      ]
     },
     "execution_count": 4,
     "metadata": {},
     "output_type": "execute_result"
    }
   ],
   "source": [
    "list[2]=21\n",
    "list"
   ]
  },
  {
   "cell_type": "code",
   "execution_count": 11,
   "id": "defce1d2-91c8-4b64-bbc9-220960766ff3",
   "metadata": {},
   "outputs": [],
   "source": [
    "#example fpr immutable objects\n",
    "\n",
    "B = \"india\"\n",
    "B[1] = h\n",
    "\n",
    "\n",
    "#when you run this code it will show a error"
   ]
  },
  {
   "cell_type": "code",
   "execution_count": 22,
   "id": "e1ec88fc-e7fb-42ff-af34-5ad07400d24f",
   "metadata": {},
   "outputs": [
    {
     "data": {
      "text/plain": [
       "8"
      ]
     },
     "execution_count": 22,
     "metadata": {},
     "output_type": "execute_result"
    }
   ],
   "source": [
    "#4.Discuss the different types of operators in Python and provide examples of how they are used\n",
    "\n",
    "#a) Arithmetic operators \n",
    "# operators which perform basic mathematical operations on numeric data such as addition,subtraction,multiplication,division,modulus and exponentiation\n",
    "\n",
    "\n",
    "#examples: \n",
    "a=5\n",
    "b=3\n",
    "a+b"
   ]
  },
  {
   "cell_type": "code",
   "execution_count": 23,
   "id": "bd60051b-7c9d-48f9-8893-7cff49fbfc20",
   "metadata": {},
   "outputs": [
    {
     "data": {
      "text/plain": [
       "15"
      ]
     },
     "execution_count": 23,
     "metadata": {},
     "output_type": "execute_result"
    }
   ],
   "source": [
    "a*b"
   ]
  },
  {
   "cell_type": "code",
   "execution_count": 24,
   "id": "5f90dc18-f9ad-4835-b06d-42ac36f10784",
   "metadata": {},
   "outputs": [
    {
     "data": {
      "text/plain": [
       "0"
      ]
     },
     "execution_count": 24,
     "metadata": {},
     "output_type": "execute_result"
    }
   ],
   "source": [
    "a*b%a"
   ]
  },
  {
   "cell_type": "code",
   "execution_count": 25,
   "id": "5840300a-cc8b-4891-81e7-3d34620ec5c5",
   "metadata": {},
   "outputs": [
    {
     "data": {
      "text/plain": [
       "True"
      ]
     },
     "execution_count": 25,
     "metadata": {},
     "output_type": "execute_result"
    }
   ],
   "source": [
    "#b)comparison operator\n",
    "\n",
    "#operators which compares two values and return a boolean value\n",
    " \n",
    "#examples:\n",
    "2==2"
   ]
  },
  {
   "cell_type": "code",
   "execution_count": 26,
   "id": "6c35bc4d-043d-4f4a-bc32-f9a56bb1c86e",
   "metadata": {},
   "outputs": [
    {
     "data": {
      "text/plain": [
       "False"
      ]
     },
     "execution_count": 26,
     "metadata": {},
     "output_type": "execute_result"
    }
   ],
   "source": [
    "5==6"
   ]
  },
  {
   "cell_type": "code",
   "execution_count": 27,
   "id": "586b98de-8e08-48c5-af55-43a87b56f741",
   "metadata": {},
   "outputs": [
    {
     "data": {
      "text/plain": [
       "True"
      ]
     },
     "execution_count": 27,
     "metadata": {},
     "output_type": "execute_result"
    }
   ],
   "source": [
    "6!=7"
   ]
  },
  {
   "cell_type": "code",
   "execution_count": 4,
   "id": "d525309c-4f96-4765-a58e-88e705caf23f",
   "metadata": {},
   "outputs": [
    {
     "data": {
      "text/plain": [
       "True"
      ]
     },
     "execution_count": 4,
     "metadata": {},
     "output_type": "execute_result"
    }
   ],
   "source": [
    "#c)logical operators \n",
    "\n",
    "#i)And operator  \n",
    "\n",
    "#And operator returns true if both are true\n",
    "#example:\n",
    "\n",
    "True and True"
   ]
  },
  {
   "cell_type": "code",
   "execution_count": 8,
   "id": "e8f2882d-2b7a-4a99-8443-a62ff8e8f68d",
   "metadata": {},
   "outputs": [
    {
     "data": {
      "text/plain": [
       "True"
      ]
     },
     "execution_count": 8,
     "metadata": {},
     "output_type": "execute_result"
    }
   ],
   "source": [
    "#ii) Or operator\n",
    "\n",
    "#Or operator returns true if one of them are true\n",
    "#example:\n",
    "\n",
    "True or False"
   ]
  },
  {
   "cell_type": "code",
   "execution_count": 9,
   "id": "169d4ac9-6f53-40a0-b9c7-c5c4c340bbf1",
   "metadata": {},
   "outputs": [
    {
     "data": {
      "text/plain": [
       "False"
      ]
     },
     "execution_count": 9,
     "metadata": {},
     "output_type": "execute_result"
    }
   ],
   "source": [
    "#iii) Not operator \n",
    "\n",
    "#a logical operator that inverts the truth value of an expression\n",
    "#example:\n",
    " \n",
    "not True    "
   ]
  },
  {
   "cell_type": "code",
   "execution_count": 10,
   "id": "15897468-f3ba-40dd-8933-96cecd8d96b6",
   "metadata": {},
   "outputs": [
    {
     "data": {
      "text/plain": [
       "20"
      ]
     },
     "execution_count": 10,
     "metadata": {},
     "output_type": "execute_result"
    }
   ],
   "source": [
    "#d) Assignment operator \n",
    "\n",
    "#operators which used to assign values to variables\n",
    "#examples:\n",
    "\n",
    "a=15\n",
    "a+5"
   ]
  },
  {
   "cell_type": "code",
   "execution_count": 11,
   "id": "df5c4753-70e2-498c-a38f-ebe6d8a5a3c1",
   "metadata": {},
   "outputs": [
    {
     "data": {
      "text/plain": [
       "4.0"
      ]
     },
     "execution_count": 11,
     "metadata": {},
     "output_type": "execute_result"
    }
   ],
   "source": [
    "b=12\n",
    "b/3"
   ]
  },
  {
   "cell_type": "code",
   "execution_count": 12,
   "id": "1155b129-6fce-454f-89c4-ac088ac48e13",
   "metadata": {},
   "outputs": [
    {
     "data": {
      "text/plain": [
       "True"
      ]
     },
     "execution_count": 12,
     "metadata": {},
     "output_type": "execute_result"
    }
   ],
   "source": [
    "#e) Membership operator \n",
    "\n",
    "#operators which checks and evaluate the presence of a value in a collection or sequence \n",
    "#examples:\n",
    "\n",
    "a= \"Abhay\"\n",
    "\"A\" in a"
   ]
  },
  {
   "cell_type": "code",
   "execution_count": 13,
   "id": "a1502890-9ee1-446a-a701-137cc8b00b80",
   "metadata": {},
   "outputs": [
    {
     "data": {
      "text/plain": [
       "True"
      ]
     },
     "execution_count": 13,
     "metadata": {},
     "output_type": "execute_result"
    }
   ],
   "source": [
    "\"pwskills\" not in a"
   ]
  },
  {
   "cell_type": "code",
   "execution_count": 16,
   "id": "6af26953-628c-4d01-bfb5-f042ff7deb71",
   "metadata": {},
   "outputs": [
    {
     "data": {
      "text/plain": [
       "False"
      ]
     },
     "execution_count": 16,
     "metadata": {},
     "output_type": "execute_result"
    }
   ],
   "source": [
    "#f) Identity Operator \n",
    "\n",
    "#Operators which compares the location of two object or variable \n",
    "#examples:\n",
    "\n",
    "a=25\n",
    "b=35\n",
    "a is b"
   ]
  },
  {
   "cell_type": "code",
   "execution_count": 15,
   "id": "89d76322-20a1-4f2b-a050-8241b417d622",
   "metadata": {},
   "outputs": [
    {
     "data": {
      "text/plain": [
       "True"
      ]
     },
     "execution_count": 15,
     "metadata": {},
     "output_type": "execute_result"
    }
   ],
   "source": [
    "a=\"pw\"\n",
    "b=\"pw\"\n",
    "a is b"
   ]
  },
  {
   "cell_type": "code",
   "execution_count": 17,
   "id": "7bfc76f5-dba2-4979-adc5-af50bcb10359",
   "metadata": {},
   "outputs": [
    {
     "data": {
      "text/plain": [
       "10"
      ]
     },
     "execution_count": 17,
     "metadata": {},
     "output_type": "execute_result"
    }
   ],
   "source": [
    "#g) Bitwise operator \n",
    "\n",
    "#Operations performed at bit level \n",
    "#examples:\n",
    "\n",
    "10&10"
   ]
  },
  {
   "cell_type": "code",
   "execution_count": 18,
   "id": "2b5ad51b-a319-49c7-8455-cd37280af247",
   "metadata": {},
   "outputs": [
    {
     "data": {
      "text/plain": [
       "7"
      ]
     },
     "execution_count": 18,
     "metadata": {},
     "output_type": "execute_result"
    }
   ],
   "source": [
    "3|5"
   ]
  },
  {
   "cell_type": "code",
   "execution_count": 19,
   "id": "1005999f-753f-4a2e-bec1-71405703e849",
   "metadata": {},
   "outputs": [
    {
     "data": {
      "text/plain": [
       "-5"
      ]
     },
     "execution_count": 19,
     "metadata": {},
     "output_type": "execute_result"
    }
   ],
   "source": [
    "#negation \n",
    "#example:\n",
    "\n",
    "~4"
   ]
  },
  {
   "cell_type": "code",
   "execution_count": 20,
   "id": "e2bb1282-10b4-4f8c-8065-66ef63436023",
   "metadata": {},
   "outputs": [
    {
     "data": {
      "text/plain": [
       "3"
      ]
     },
     "execution_count": 20,
     "metadata": {},
     "output_type": "execute_result"
    }
   ],
   "source": [
    "#bitwise XOR operator \n",
    "\n",
    "5^6\n"
   ]
  },
  {
   "cell_type": "code",
   "execution_count": 21,
   "id": "ad219d15-7000-4e5f-848d-f0ceb87665b0",
   "metadata": {},
   "outputs": [
    {
     "data": {
      "text/plain": [
       "280"
      ]
     },
     "execution_count": 21,
     "metadata": {},
     "output_type": "execute_result"
    }
   ],
   "source": [
    "#Left shift operator:\n",
    "\n",
    "#shifts the bits to the left by a specified number of position by fillimg zero's of the right \n",
    "#example:\n",
    "\n",
    "35<<3"
   ]
  },
  {
   "cell_type": "code",
   "execution_count": 22,
   "id": "29fa8e4c-3d62-4d5d-a52e-04087f5c8a2d",
   "metadata": {},
   "outputs": [
    {
     "data": {
      "text/plain": [
       "35"
      ]
     },
     "execution_count": 22,
     "metadata": {},
     "output_type": "execute_result"
    }
   ],
   "source": [
    "#Right shift operator \n",
    "\n",
    "#remove the number of elements in the binary \n",
    "#example:\n",
    "\n",
    "280>>3"
   ]
  },
  {
   "cell_type": "code",
   "execution_count": 23,
   "id": "33fb8a44-07d7-4c2e-bb89-60d7e990a041",
   "metadata": {},
   "outputs": [
    {
     "data": {
      "text/plain": [
       "str"
      ]
     },
     "execution_count": 23,
     "metadata": {},
     "output_type": "execute_result"
    }
   ],
   "source": [
    "#5.explain the concept of type casting in Python with examples\n",
    "\n",
    "#a process that converts a variable's data type into another data tyoe \n",
    "#examples:\n",
    "\n",
    "a=\"2.6\"\n",
    "type(a)"
   ]
  },
  {
   "cell_type": "code",
   "execution_count": 25,
   "id": "06de9bfd-37d1-4c62-bbbe-6a026253aeaa",
   "metadata": {},
   "outputs": [
    {
     "data": {
      "text/plain": [
       "float"
      ]
     },
     "execution_count": 25,
     "metadata": {},
     "output_type": "execute_result"
    }
   ],
   "source": [
    "type(float(a))"
   ]
  },
  {
   "cell_type": "code",
   "execution_count": 33,
   "id": "19824a4e-aa74-4cab-b9d6-5c6fe1cf9fd6",
   "metadata": {},
   "outputs": [
    {
     "data": {
      "text/plain": [
       "str"
      ]
     },
     "execution_count": 33,
     "metadata": {},
     "output_type": "execute_result"
    }
   ],
   "source": [
    "s=\"222\"\n",
    "type(t)"
   ]
  },
  {
   "cell_type": "code",
   "execution_count": 34,
   "id": "bd4588ac-a4ec-4b2b-91c1-cddd402203bf",
   "metadata": {},
   "outputs": [
    {
     "data": {
      "text/plain": [
       "int"
      ]
     },
     "execution_count": 34,
     "metadata": {},
     "output_type": "execute_result"
    }
   ],
   "source": [
    "type(int(s))"
   ]
  },
  {
   "cell_type": "code",
   "execution_count": 35,
   "id": "63eae2c7-4613-4046-a95d-62292326cf66",
   "metadata": {},
   "outputs": [
    {
     "data": {
      "text/plain": [
       "False"
      ]
     },
     "execution_count": 35,
     "metadata": {},
     "output_type": "execute_result"
    }
   ],
   "source": [
    "bool(0)"
   ]
  },
  {
   "cell_type": "code",
   "execution_count": 1,
   "id": "2a8b755a-9704-4bea-9e04-5db1a87a40ea",
   "metadata": {},
   "outputs": [
    {
     "name": "stdout",
     "output_type": "stream",
     "text": [
      "the number is greater than 100\n"
     ]
    }
   ],
   "source": [
    "#6.How do conditional statements work in Python? Illustrate with examples\n",
    "\n",
    "#conditional statements helps you to code decisions on some pre conditions \n",
    "\n",
    "#i) if statement \n",
    "# a condition statement used to check a condition and execute it if the condition holds true\n",
    "\n",
    "#example:\n",
    "\n",
    "a=156\n",
    "if a>100:\n",
    "    print(\"the number is greater than 100\")"
   ]
  },
  {
   "cell_type": "code",
   "execution_count": 9,
   "id": "0dd969e2-c88d-4dd6-a6c4-fd0a659b862a",
   "metadata": {},
   "outputs": [
    {
     "name": "stdout",
     "output_type": "stream",
     "text": [
      "x is a negative number\n"
     ]
    }
   ],
   "source": [
    "#ii) if else statement\n",
    "# it execute the if block when the condition is true else execute else block\n",
    "\n",
    "#example\n",
    "\n",
    "if x>0:\n",
    "    print(\"x is a positive number\")\n",
    "else:\n",
    "    print(\"x is a negative number\")\n",
    "    x=-1"
   ]
  },
  {
   "cell_type": "code",
   "execution_count": 6,
   "id": "b104e7c2-25bb-4f0f-853d-4b6b98b4a63f",
   "metadata": {},
   "outputs": [
    {
     "name": "stdout",
     "output_type": "stream",
     "text": [
      "Grade D\n"
     ]
    }
   ],
   "source": [
    "#iii) elif statement\n",
    "#elif stands for else if. it can be used in conditional statements to check multiple conditions\n",
    "\n",
    "#example:\n",
    "\n",
    "score=55\n",
    "if score>=90:\n",
    "    print(\"Grade A\")\n",
    "elif (80<=score<90):\n",
    "    print(\"Grade B\")\n",
    "elif (70<=score<80):\n",
    "    print(\"Grade C\")\n",
    "else:\n",
    "    print(\"Grade D\")\n",
    "    \n"
   ]
  },
  {
   "cell_type": "code",
   "execution_count": 13,
   "id": "61ce7a52-5ae0-4542-8db9-278e7c63d9a3",
   "metadata": {},
   "outputs": [
    {
     "name": "stdout",
     "output_type": "stream",
     "text": [
      "x is greater than 5 but y is less than 5\n"
     ]
    }
   ],
   "source": [
    "#iv) Nested if statement\n",
    "\n",
    "#statements in which you can have multiple if else inside if else\n",
    "#example:\n",
    "\n",
    "x=7\n",
    "y=3\n",
    "if x>5:\n",
    "    if y>5:\n",
    "        print(\"both x and y are greater than 5\")\n",
    "    else:\n",
    "        print(\"x is greater than 5 but y is less than 5\")     \n",
    "else:\n",
    "            print(\"x is not greater than 5\")"
   ]
  },
  {
   "cell_type": "code",
   "execution_count": 14,
   "id": "44cd4985-18d4-4b85-8414-255ba1596799",
   "metadata": {},
   "outputs": [
    {
     "name": "stdout",
     "output_type": "stream",
     "text": [
      "1\n",
      "2\n",
      "3\n",
      "4\n"
     ]
    }
   ],
   "source": [
    "#7.Describe the different types of loops in Python and their use cases with examples\n",
    "\n",
    "#i) while loop\n",
    "# repeatedly executed a block of code untill a condition is met \n",
    "#examples:\n",
    "\n",
    "n=5\n",
    "i=1\n",
    "while i<n:\n",
    "    print(i)\n",
    "    i=i+1\n",
    "\n"
   ]
  },
  {
   "cell_type": "code",
   "execution_count": 16,
   "id": "938cb9b3-e93e-48c4-b803-97cafb228295",
   "metadata": {},
   "outputs": [
    {
     "name": "stdout",
     "output_type": "stream",
     "text": [
      "1  4.5  Abhay  pwskills  "
     ]
    }
   ],
   "source": [
    "#ii) for loop \n",
    "# used to iterate over a sequence of elements(string,list....etc)\n",
    "#example:\n",
    "\n",
    "l=[1,4.5,\"Abhay\",\"pwskills\"]\n",
    "for i in l:\n",
    "    print(i,end=\"  \")\n"
   ]
  },
  {
   "cell_type": "code",
   "execution_count": null,
   "id": "038133f2-f2c5-4d65-8b15-f5be66a86c5b",
   "metadata": {},
   "outputs": [],
   "source": []
  }
 ],
 "metadata": {
  "kernelspec": {
   "display_name": "Python 3 (ipykernel)",
   "language": "python",
   "name": "python3"
  },
  "language_info": {
   "codemirror_mode": {
    "name": "ipython",
    "version": 3
   },
   "file_extension": ".py",
   "mimetype": "text/x-python",
   "name": "python",
   "nbconvert_exporter": "python",
   "pygments_lexer": "ipython3",
   "version": "3.10.8"
  }
 },
 "nbformat": 4,
 "nbformat_minor": 5
}
